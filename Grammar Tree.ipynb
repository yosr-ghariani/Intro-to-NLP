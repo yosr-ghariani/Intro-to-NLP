{
  "nbformat": 4,
  "nbformat_minor": 0,
  "metadata": {
    "colab": {
      "provenance": []
    },
    "kernelspec": {
      "name": "python3",
      "display_name": "Python 3"
    },
    "language_info": {
      "name": "python"
    }
  },
  "cells": [
    {
      "cell_type": "markdown",
      "source": [
        "Exercice 1:"
      ],
      "metadata": {
        "id": "16kph4bprM-L"
      }
    },
    {
      "cell_type": "code",
      "execution_count": null,
      "metadata": {
        "id": "s_cHvcj2nmYD"
      },
      "outputs": [],
      "source": [
        "import nltk"
      ]
    },
    {
      "cell_type": "code",
      "source": [
        "grammar = nltk.CFG.fromstring(\"\"\"\n",
        "S -> NP VP\n",
        "NP -> NP RC | PN N\n",
        "RC -> NP V\n",
        "VP -> V NP\n",
        "PN -> 'Buffalo'\n",
        "V -> 'buffalo'\n",
        "N -> 'buffalo'\n",
        "\"\"\")"
      ],
      "metadata": {
        "id": "FH1vgZBIoQEH"
      },
      "execution_count": null,
      "outputs": []
    },
    {
      "cell_type": "code",
      "source": [
        "sent = [ 'Buffalo', 'buffalo', 'Buffalo', 'buffalo', 'buffalo' ,'buffalo', 'Buffalo', 'buffalo']\n"
      ],
      "metadata": {
        "id": "09GnvJhEpgd3"
      },
      "execution_count": null,
      "outputs": []
    },
    {
      "cell_type": "code",
      "source": [
        "parser = nltk.ChartParser(grammar)\n",
        "for tree in parser.parse(sent):\n",
        "  print(tree)"
      ],
      "metadata": {
        "colab": {
          "base_uri": "https://localhost:8080/"
        },
        "id": "z69U3LfTqRUr",
        "outputId": "517aabc6-fc0f-4be8-f3c5-2ae8cb976642"
      },
      "execution_count": null,
      "outputs": [
        {
          "output_type": "stream",
          "name": "stdout",
          "text": [
            "(S\n",
            "  (NP\n",
            "    (NP (PN Buffalo) (N buffalo))\n",
            "    (RC (NP (PN Buffalo) (N buffalo)) (V buffalo)))\n",
            "  (VP (V buffalo) (NP (PN Buffalo) (N buffalo))))\n"
          ]
        }
      ]
    },
    {
      "cell_type": "code",
      "source": [
        "tree.pretty_print()"
      ],
      "metadata": {
        "colab": {
          "base_uri": "https://localhost:8080/"
        },
        "id": "SCBEgrB9rfi4",
        "outputId": "edccff94-0c38-4039-cdd1-9c3adc7446b5"
      },
      "execution_count": null,
      "outputs": [
        {
          "output_type": "stream",
          "name": "stdout",
          "text": [
            "                                   S                                       \n",
            "                        ___________|_______________________                 \n",
            "                       NP                                  |               \n",
            "          _____________|___________                        |                \n",
            "         |                         RC                      VP              \n",
            "         |                    _____|_______         _______|_____           \n",
            "         NP                  NP            |       |             NP        \n",
            "    _____|_____         _____|_____        |       |        _____|_____     \n",
            "   PN          N       PN          N       V       V       PN          N   \n",
            "   |           |       |           |       |       |       |           |    \n",
            "Buffalo     buffalo Buffalo     buffalo buffalo buffalo Buffalo     buffalo\n",
            "\n"
          ]
        }
      ]
    },
    {
      "cell_type": "markdown",
      "source": [
        "Exercice 2:"
      ],
      "metadata": {
        "id": "ooqQk30SrPZm"
      }
    },
    {
      "cell_type": "markdown",
      "source": [
        "1) elle est syntaxiquement correcte:\n",
        "\n",
        "GN | GV\n",
        "\n",
        "DET | N  | V | PRO | V\n",
        "\n",
        "DET | NC | ADJ,V | PRO,DET | V,NC\n",
        "\n",
        "Le  | pilote | ferme | la | porte\n",
        "      "
      ],
      "metadata": {
        "id": "67FX-nwAsIxq"
      }
    },
    {
      "cell_type": "code",
      "source": [
        "grammar = nltk.CFG.fromstring(\"\"\"\n",
        "P -> GN GV\n",
        "GN -> DET N\n",
        "GN -> DET N ADJ\n",
        "GN -> DET N GP\n",
        "GP -> PREP GN\n",
        "N -> NC\n",
        "GV -> V GN\n",
        "GV -> PRO V\n",
        "DET -> 'le'\n",
        "DET -> 'la'\n",
        "NC -> 'pilote'\n",
        "NC -> 'porte'\n",
        "PREP -> 'de'\n",
        "ADJ -> 'ferme'\n",
        "V -> 'porte'\n",
        "V -> 'ferme'\n",
        "PRO -> 'la'\n",
        "\"\"\")"
      ],
      "metadata": {
        "id": "kdJ0ebdWqTpu"
      },
      "execution_count": null,
      "outputs": []
    },
    {
      "cell_type": "code",
      "source": [
        "sent1= ['le', 'pilote', 'ferme', 'la' ,'porte']"
      ],
      "metadata": {
        "id": "JvN0cztTsIaf"
      },
      "execution_count": null,
      "outputs": []
    },
    {
      "cell_type": "code",
      "source": [
        "parser = nltk.ChartParser(grammar)\n",
        "for tree in parser.parse(sent1):\n",
        "  tree.pretty_print()"
      ],
      "metadata": {
        "colab": {
          "base_uri": "https://localhost:8080/"
        },
        "id": "rqYbeOmUvILO",
        "outputId": "f3692dbb-010e-4254-e5c2-510451247608"
      },
      "execution_count": null,
      "outputs": [
        {
          "output_type": "stream",
          "name": "stdout",
          "text": [
            "             P                \n",
            "       ______|________         \n",
            "      GN              |       \n",
            "  ____|______         |        \n",
            " |    N      |        GV      \n",
            " |    |      |     ___|____    \n",
            "DET   NC    ADJ  PRO       V  \n",
            " |    |      |    |        |   \n",
            " le pilote ferme  la     porte\n",
            "\n",
            "                 P                \n",
            "      ___________|____             \n",
            "     |                GV          \n",
            "     |            ____|___         \n",
            "     GN          |        GN      \n",
            "  ___|____       |     ___|____    \n",
            " |        N      |    |        N  \n",
            " |        |      |    |        |   \n",
            "DET       NC     V   DET       NC \n",
            " |        |      |    |        |   \n",
            " le     pilote ferme  la     porte\n",
            "\n"
          ]
        }
      ]
    },
    {
      "cell_type": "code",
      "source": [],
      "metadata": {
        "id": "IIBIzhVnw7Jy"
      },
      "execution_count": null,
      "outputs": []
    }
  ]
}